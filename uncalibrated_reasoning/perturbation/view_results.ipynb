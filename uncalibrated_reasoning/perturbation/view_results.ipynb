{
 "cells": [
  {
   "cell_type": "code",
   "execution_count": 1,
   "id": "6c475057",
   "metadata": {},
   "outputs": [],
   "source": [
    "%load_ext autoreload\n",
    "%autoreload 2"
   ]
  },
  {
   "cell_type": "code",
   "execution_count": 2,
   "id": "4aa665a4",
   "metadata": {},
   "outputs": [],
   "source": [
    "import pandas as pd\n",
    "from uncalibrated_reasoning.utils import get_cache_dir\n",
    "from collections import defaultdict\n",
    "import seaborn as sns\n",
    "import numpy as np\n",
    "import matplotlib.pyplot as plt\n",
    "from sklearn.metrics import roc_auc_score\n",
    "from pathlib import Path\n",
    "import scipy.stats as st"
   ]
  },
  {
   "cell_type": "code",
   "execution_count": 3,
   "id": "633f1967",
   "metadata": {},
   "outputs": [],
   "source": [
    "def get_num(x):\n",
    "    try:\n",
    "        x = float(x)\n",
    "        if x < 1:\n",
    "            x = 1\n",
    "        \n",
    "        if x > 99:\n",
    "            x = 99\n",
    "        return x\n",
    "    except:\n",
    "        return None\n",
    "    \n",
    "def expected_calibration_error(targets, preds, n_bins=10):\n",
    "    df = pd.DataFrame({\"pred\": preds, \"target\": targets})\n",
    "    df[\"pred_bin\"] = pd.cut(df[\"pred\"], np.linspace(0, 1, n_bins+1))\n",
    "    bin_mean_pred = df.groupby(\"pred_bin\", observed=True)[\"pred\"].mean()\n",
    "    bin_mean_target = df.groupby(\"pred_bin\", observed=True)[\"target\"].mean()\n",
    "    bin_counts = df.groupby(\"pred_bin\", observed=True)[\"target\"].count()\n",
    "\n",
    "    bin_counts_normalized = bin_counts / df.shape[0]\n",
    "\n",
    "    ece = (bin_counts_normalized * (bin_mean_pred - bin_mean_target).abs())\n",
    "    ece = ece.sum()\n",
    "    return ece\n",
    "\n",
    "def accuracy_mle(targets, preds, n_bins=10):\n",
    "    n_correct = 0\n",
    "    n_correct += (targets[preds > 0.5] == True).sum()\n",
    "    n_correct += (targets[preds < 0.5] == False).sum()\n",
    "    n_correct += 0.5 * (preds == 0.5).sum()\n",
    "    return n_correct / preds.shape[0]"
   ]
  },
  {
   "cell_type": "code",
   "execution_count": 4,
   "id": "55d8294b",
   "metadata": {},
   "outputs": [],
   "source": [
    "use_paper_data = True\n",
    "if use_paper_data:\n",
    "    cache_dir = Path(\"../../paper_data/\")\n",
    "else:\n",
    "    cache_dir = get_cache_dir()\n",
    "outdir = Path(\"images/\")\n",
    "outdir.mkdir(exist_ok=True, parents=True)"
   ]
  },
  {
   "cell_type": "code",
   "execution_count": 5,
   "id": "b48b53da",
   "metadata": {},
   "outputs": [],
   "source": [
    "def load_preds(experiment_name, step, data_key, prompt_key, split):\n",
    "    df = []\n",
    "    basedir = cache_dir / \"experiments\" / experiment_name / f\"global_step_{step}\" / data_key / f\"{prompt_key}-split-{split}\"\n",
    "    for path in sorted(basedir.iterdir()):\n",
    "        df.append(pd.read_parquet(path))\n",
    "    df = pd.concat(df)\n",
    "    df[\"answer_num\"] = df[\"answer\"].apply(get_num)\n",
    "    df = df.dropna()\n",
    "    thresh = np.linspace(0, 100, 11)\n",
    "    df[\"answer_bin\"] = pd.cut(df[\"answer_num\"], thresh, labels=False).astype(int)\n",
    "    df[\"answer_bin_val\"] = thresh[df[\"answer_bin\"].to_numpy()] + 5\n",
    "    return df\n",
    "\n",
    "def load_zero_shot_preds(data_key, prompt_key, split):\n",
    "    df = []\n",
    "    basedir = cache_dir / \"baselines\" / data_key / f\"{prompt_key}-split-{split}\"\n",
    "    for path in sorted(basedir.iterdir()):\n",
    "        df.append(pd.read_parquet(path))\n",
    "    df = pd.concat(df)\n",
    "    df[\"answer_num\"] = df[\"answer\"].apply(get_num)\n",
    "    df = df.dropna()\n",
    "    thresh = np.linspace(0, 100, 11)\n",
    "    df[\"answer_bin\"] = pd.cut(df[\"answer_num\"], thresh, labels=False).astype(int)\n",
    "    df[\"answer_bin_val\"] = thresh[df[\"answer_bin\"].to_numpy()] + 5\n",
    "    return df"
   ]
  },
  {
   "cell_type": "code",
   "execution_count": 6,
   "id": "5a0a11a8",
   "metadata": {},
   "outputs": [],
   "source": [
    "dataset = \"replogle_k562_essential_cnmf\"\n",
    "prompt = \"hit_probability_v2\"\n",
    "split = \"test\"\n",
    "\n",
    "dfs = {}\n",
    "dfs[\"GRPO-offline\"] = load_preds(\"final_grpo\", 180, dataset, prompt, split)\n",
    "dfs[\"GRPO_no_std-offline\"] = load_preds(\"final_grpo_no_std\", 180, dataset, prompt, split)\n",
    "dfs[\"RLOO-offline\"] = load_preds(\"final_rloo\", 180, dataset, prompt, split)\n",
    "dfs[\"PPO-offline\"] = load_preds(\"final_ppo\", 180, dataset, prompt, split)"
   ]
  },
  {
   "cell_type": "code",
   "execution_count": 7,
   "id": "4eee5787",
   "metadata": {},
   "outputs": [],
   "source": [
    "dfs[\"zero-shot\"] = load_zero_shot_preds(dataset, prompt, split)"
   ]
  },
  {
   "cell_type": "code",
   "execution_count": 8,
   "id": "8c1071f2",
   "metadata": {},
   "outputs": [
    {
     "name": "stdout",
     "output_type": "stream",
     "text": [
      "GRPO-offline\n",
      "GRPO_no_std-offline\n",
      "RLOO-offline\n",
      "PPO-offline\n",
      "zero-shot\n"
     ]
    }
   ],
   "source": [
    "metrics = defaultdict(list)\n",
    "for k, df in dfs.items():\n",
    "    print(k)\n",
    "    metrics[\"algo\"].append(k)\n",
    "    metrics[\"ece\"].append(expected_calibration_error(df[\"hit\"].astype(float), df[\"answer_num\"] / 100))\n",
    "    metrics[\"auroc\"].append(roc_auc_score(df[\"hit\"].astype(float), df[\"answer_num\"] / 100))\n",
    "    metrics[\"accuracy_mle\"].append(accuracy_mle(df[\"hit\"].astype(bool), df[\"answer_num\"] / 100))\n",
    "metrics = pd.DataFrame(metrics)"
   ]
  },
  {
   "cell_type": "code",
   "execution_count": 9,
   "id": "cb133347",
   "metadata": {},
   "outputs": [
    {
     "data": {
      "text/html": [
       "<div>\n",
       "<style scoped>\n",
       "    .dataframe tbody tr th:only-of-type {\n",
       "        vertical-align: middle;\n",
       "    }\n",
       "\n",
       "    .dataframe tbody tr th {\n",
       "        vertical-align: top;\n",
       "    }\n",
       "\n",
       "    .dataframe thead th {\n",
       "        text-align: right;\n",
       "    }\n",
       "</style>\n",
       "<table border=\"1\" class=\"dataframe\">\n",
       "  <thead>\n",
       "    <tr style=\"text-align: right;\">\n",
       "      <th></th>\n",
       "      <th>algo</th>\n",
       "      <th>ece</th>\n",
       "      <th>auroc</th>\n",
       "      <th>accuracy_mle</th>\n",
       "    </tr>\n",
       "  </thead>\n",
       "  <tbody>\n",
       "    <tr>\n",
       "      <th>0</th>\n",
       "      <td>GRPO-offline</td>\n",
       "      <td>0.292213</td>\n",
       "      <td>0.688252</td>\n",
       "      <td>0.669966</td>\n",
       "    </tr>\n",
       "    <tr>\n",
       "      <th>1</th>\n",
       "      <td>GRPO_no_std-offline</td>\n",
       "      <td>0.035806</td>\n",
       "      <td>0.720972</td>\n",
       "      <td>0.675731</td>\n",
       "    </tr>\n",
       "    <tr>\n",
       "      <th>2</th>\n",
       "      <td>RLOO-offline</td>\n",
       "      <td>0.040251</td>\n",
       "      <td>0.721537</td>\n",
       "      <td>0.677635</td>\n",
       "    </tr>\n",
       "    <tr>\n",
       "      <th>3</th>\n",
       "      <td>PPO-offline</td>\n",
       "      <td>0.037518</td>\n",
       "      <td>0.718480</td>\n",
       "      <td>0.664943</td>\n",
       "    </tr>\n",
       "    <tr>\n",
       "      <th>4</th>\n",
       "      <td>zero-shot</td>\n",
       "      <td>0.174974</td>\n",
       "      <td>0.574141</td>\n",
       "      <td>0.555565</td>\n",
       "    </tr>\n",
       "  </tbody>\n",
       "</table>\n",
       "</div>"
      ],
      "text/plain": [
       "                  algo       ece     auroc  accuracy_mle\n",
       "0         GRPO-offline  0.292213  0.688252      0.669966\n",
       "1  GRPO_no_std-offline  0.035806  0.720972      0.675731\n",
       "2         RLOO-offline  0.040251  0.721537      0.677635\n",
       "3          PPO-offline  0.037518  0.718480      0.664943\n",
       "4            zero-shot  0.174974  0.574141      0.555565"
      ]
     },
     "execution_count": 9,
     "metadata": {},
     "output_type": "execute_result"
    }
   ],
   "source": [
    "metrics"
   ]
  },
  {
   "cell_type": "code",
   "execution_count": 10,
   "id": "b0feee43",
   "metadata": {},
   "outputs": [],
   "source": [
    "# print(metrics.to_latex(index=False, float_format=\"{:.2f}\".format))"
   ]
  },
  {
   "cell_type": "code",
   "execution_count": 11,
   "id": "b6714cb5",
   "metadata": {},
   "outputs": [
    {
     "name": "stdout",
     "output_type": "stream",
     "text": [
      "GRPO-offline (5607, 11)\n",
      "GRPO_no_std-offline (5608, 11)\n",
      "RLOO-offline (5607, 11)\n",
      "PPO-offline (5608, 11)\n",
      "zero-shot (5597, 11)\n"
     ]
    }
   ],
   "source": [
    "for k, v in dfs.items():\n",
    "    print(k, v.shape)"
   ]
  },
  {
   "cell_type": "code",
   "execution_count": 12,
   "id": "e7efdbea",
   "metadata": {},
   "outputs": [
    {
     "name": "stdout",
     "output_type": "stream",
     "text": [
      "GRPO-offline\n"
     ]
    },
    {
     "data": {
      "image/png": "[encoded data removed]",
      "text/plain": [
       "<Figure size 250x150 with 1 Axes>"
      ]
     },
     "metadata": {},
     "output_type": "display_data"
    },
    {
     "name": "stdout",
     "output_type": "stream",
     "text": [
      "GRPO_no_std-offline\n"
     ]
    },
    {
     "data": {
      "image/png": "[encoded data removed]",
      "text/plain": [
       "<Figure size 250x150 with 1 Axes>"
      ]
     },
     "metadata": {},
     "output_type": "display_data"
    },
    {
     "name": "stdout",
     "output_type": "stream",
     "text": [
      "RLOO-offline\n"
     ]
    },
    {
     "data": {
      "image/png": "[encoded data removed]",
      "text/plain": [
       "<Figure size 250x150 with 1 Axes>"
      ]
     },
     "metadata": {},
     "output_type": "display_data"
    },
    {
     "name": "stdout",
     "output_type": "stream",
     "text": [
      "PPO-offline\n"
     ]
    },
    {
     "data": {
      "image/png": "[encoded data removed]",
      "text/plain": [
       "<Figure size 250x150 with 1 Axes>"
      ]
     },
     "metadata": {},
     "output_type": "display_data"
    },
    {
     "name": "stdout",
     "output_type": "stream",
     "text": [
      "zero-shot\n"
     ]
    },
    {
     "data": {
      "image/png": "[encoded data removed]",
      "text/plain": [
       "<Figure size 250x150 with 1 Axes>"
      ]
     },
     "metadata": {},
     "output_type": "display_data"
    }
   ],
   "source": [
    "for k, df in dfs.items():\n",
    "    print(k)\n",
    "    plt.figure(figsize=(2.5, 1.5))\n",
    "    x = np.arange(10)\n",
    "    counts= df['answer_bin'].value_counts(normalize=True).to_dict()\n",
    "    y = [counts.get(x[i], 0) for i in range(len(x))]\n",
    "    plt.bar(x + 0.5, y, edgecolor=\"k\")\n",
    "    # _ = plt.xticks(ticks=x, labels=[f\"{i*10}-{(i+1)*10}%\" for i in range(10)], rotation=45, ha=\"right\")\n",
    "    # _ = plt.yticks(ticks=np.linspace(0, 0.5, 6), labels=[f\"{i*10}%\" for i in range(6)])\n",
    "    xticks = np.arange(11)\n",
    "    xlabels= [\"{:.1f}\".format(i/10) if i % 2 == 0 else \"\" for i in range(11)]\n",
    "    plt.xticks(ticks=xticks, labels=xlabels)\n",
    "    _ = plt.yticks(ticks=np.linspace(0, 0.5, 6))\n",
    "    for i in range(11):\n",
    "        plt.axvline(i, 0, 1, color=\"gray\", alpha=0.1)\n",
    "    plt.xlim(0, 10)\n",
    "    plt.gca().spines[[\"right\", \"top\"]].set_visible(False)\n",
    "    # plt.gca().set_box_aspect(1)\n",
    "    plt.ylim(0, 0.53)\n",
    "    plt.savefig(outdir / f\"pert_pred_dist_{k}.png\", transparent=True, dpi=200, bbox_inches=\"tight\")\n",
    "    plt.show(plt.gcf())\n",
    "    plt.close()"
   ]
  },
  {
   "cell_type": "code",
   "execution_count": null,
   "id": "b685d5df",
   "metadata": {},
   "outputs": [],
   "source": [
    "plot_info = defaultdict(list)\n",
    "for k, df in dfs.items():\n",
    "    for i in range(10):\n",
    "        curr = np.array(df[df[\"answer_bin\"] == i][\"hit\"].astype(float))\n",
    "        if len(curr) < 10:\n",
    "            continue\n",
    "        res = st.bootstrap((curr,), statistic=np.mean, confidence_level=0.95, n_resamples=10000, method=\"percentile\", random_state=0)\n",
    "        plot_info[\"model\"].append(k)\n",
    "        plot_info[\"bin\"].append(i)\n",
    "        plot_info[\"count\"].append(len(curr))\n",
    "        plot_info[\"freq\"].append(len(curr) / len(df))\n",
    "        plot_info[\"mean\"].append(curr.mean())\n",
    "        plot_info[\"ci_low\"].append(res.confidence_interval.low)\n",
    "        plot_info[\"ci_high\"].append(res.confidence_interval.high)\n",
    "\n",
    "plot_info = pd.DataFrame(plot_info)\n",
    "plot_info[\"ci_low_diff\"] = plot_info[\"mean\"] - plot_info[\"ci_low\"]\n",
    "plot_info[\"ci_high_diff\"] = plot_info[\"ci_high\"] - plot_info[\"mean\"]"
   ]
  },
  {
   "cell_type": "code",
   "execution_count": null,
   "id": "27a68cc1",
   "metadata": {},
   "outputs": [
    {
     "name": "stdout",
     "output_type": "stream",
     "text": [
      "['0.0', '', '0.2', '', '0.4', '', '0.6', '', '0.8', '', '1.0']\n",
      "GRPO-offline\n"
     ]
    },
    {
     "data": {
      "image/png": "[encoded data removed]",
      "text/plain": [
       "<Figure size 250x250 with 1 Axes>"
      ]
     },
     "metadata": {},
     "output_type": "display_data"
    },
    {
     "name": "stdout",
     "output_type": "stream",
     "text": [
      "['0.0', '', '0.2', '', '0.4', '', '0.6', '', '0.8', '', '1.0']\n",
      "GRPO_no_std-offline\n"
     ]
    },
    {
     "data": {
      "image/png": "[encoded data removed]",
      "text/plain": [
       "<Figure size 250x250 with 1 Axes>"
      ]
     },
     "metadata": {},
     "output_type": "display_data"
    },
    {
     "name": "stdout",
     "output_type": "stream",
     "text": [
      "['0.0', '', '0.2', '', '0.4', '', '0.6', '', '0.8', '', '1.0']\n",
      "RLOO-offline\n"
     ]
    },
    {
     "data": {
      "image/png": "[encoded data removed]",
      "text/plain": [
       "<Figure size 250x250 with 1 Axes>"
      ]
     },
     "metadata": {},
     "output_type": "display_data"
    },
    {
     "name": "stdout",
     "output_type": "stream",
     "text": [
      "['0.0', '', '0.2', '', '0.4', '', '0.6', '', '0.8', '', '1.0']\n",
      "PPO-offline\n"
     ]
    },
    {
     "data": {
      "image/png": "[encoded data removed]",
      "text/plain": [
       "<Figure size 250x250 with 1 Axes>"
      ]
     },
     "metadata": {},
     "output_type": "display_data"
    },
    {
     "name": "stdout",
     "output_type": "stream",
     "text": [
      "['0.0', '', '0.2', '', '0.4', '', '0.6', '', '0.8', '', '1.0']\n",
      "zero-shot\n"
     ]
    },
    {
     "data": {
      "image/png": "[encoded data removed]",
      "text/plain": [
       "<Figure size 250x250 with 1 Axes>"
      ]
     },
     "metadata": {},
     "output_type": "display_data"
    }
   ],
   "source": [
    "for k in plot_info[\"model\"].unique():\n",
    "    plt.figure(figsize=(2.5, 2.5))\n",
    "    curr = plot_info[plot_info[\"model\"] == k]\n",
    "    curr = curr[curr[\"count\"] > 25]\n",
    "    plt.errorbar(curr[\"bin\"] + 0.5, curr[\"mean\"], yerr=curr[[\"ci_low_diff\", \"ci_high_diff\"]].to_numpy().T, capsize=5, fmt=\"o\", markersize=7)\n",
    "\n",
    "    for i in range(10):\n",
    "        plt.fill_between([i, i+1], [i/10, i/10], [(i+1)/10, (i+1)/10], color=\"green\", alpha=0.2, zorder=1)\n",
    "\n",
    "\n",
    "    xticks = np.arange(11)\n",
    "    xlabels= [\"{:.1f}\".format(i/10) if i % 2 == 0 else \"\" for i in xticks]\n",
    "    print(xlabels)\n",
    "    plt.xticks(ticks=xticks, labels=[])\n",
    "\n",
    "    plt.xlim(0, 10)\n",
    "    plt.ylim(0, 1)\n",
    "\n",
    "    _ = plt.yticks(ticks=np.linspace(0, 1, 6))\n",
    "\n",
    "    plt.gca().spines[[\"right\", \"top\"]].set_visible(False)\n",
    "    plt.gca().set_box_aspect(1)\n",
    "    for i in range(11):\n",
    "        plt.axvline(i, 0, 1, color=\"gray\", alpha=0.1)\n",
    "    print(k)\n",
    "    plt.savefig(outdir / f\"pert_calibration_binned_{k}.png\", transparent=True, dpi=200, bbox_inches=\"tight\")\n",
    "\n",
    "    plt.show(plt.gcf())\n",
    "    plt.close()"
   ]
  },
  {
   "cell_type": "code",
   "execution_count": null,
   "id": "e83338e0",
   "metadata": {},
   "outputs": [
    {
     "data": {
      "text/html": [
       "<div>\n",
       "<style scoped>\n",
       "    .dataframe tbody tr th:only-of-type {\n",
       "        vertical-align: middle;\n",
       "    }\n",
       "\n",
       "    .dataframe tbody tr th {\n",
       "        vertical-align: top;\n",
       "    }\n",
       "\n",
       "    .dataframe thead th {\n",
       "        text-align: right;\n",
       "    }\n",
       "</style>\n",
       "<table border=\"1\" class=\"dataframe\">\n",
       "  <thead>\n",
       "    <tr style=\"text-align: right;\">\n",
       "      <th></th>\n",
       "      <th>pert</th>\n",
       "      <th>hit_prob</th>\n",
       "      <th>pheno</th>\n",
       "      <th>pheno_markers</th>\n",
       "      <th>hit</th>\n",
       "      <th>prompt</th>\n",
       "      <th>thinking_content</th>\n",
       "      <th>answer</th>\n",
       "      <th>answer_num</th>\n",
       "      <th>answer_bin</th>\n",
       "      <th>answer_bin_val</th>\n",
       "    </tr>\n",
       "  </thead>\n",
       "  <tbody>\n",
       "    <tr>\n",
       "      <th>0</th>\n",
       "      <td>SBNO1</td>\n",
       "      <td>0.037642</td>\n",
       "      <td>1</td>\n",
       "      <td>LRPPRC, HNRNPU, NCL, MT-ND4L, EIF4B, IPO5, EIF...</td>\n",
       "      <td>False</td>\n",
       "      <td>&lt;|im_start|&gt;user\\nI am planning a perturb-seq ...</td>\n",
       "      <td>\\nOkay, the user is planning a perturb-seq scr...</td>\n",
       "      <td>30</td>\n",
       "      <td>30.0</td>\n",
       "      <td>2</td>\n",
       "      <td>25.0</td>\n",
       "    </tr>\n",
       "    <tr>\n",
       "      <th>1</th>\n",
       "      <td>BRIP1</td>\n",
       "      <td>0.037643</td>\n",
       "      <td>1</td>\n",
       "      <td>LRPPRC, HNRNPU, NCL, MT-ND4L, EIF4B, IPO5, EIF...</td>\n",
       "      <td>False</td>\n",
       "      <td>&lt;|im_start|&gt;user\\nI am planning a perturb-seq ...</td>\n",
       "      <td>\\nOkay, the user is planning a perturb-seq scr...</td>\n",
       "      <td>30</td>\n",
       "      <td>30.0</td>\n",
       "      <td>2</td>\n",
       "      <td>25.0</td>\n",
       "    </tr>\n",
       "    <tr>\n",
       "      <th>2</th>\n",
       "      <td>RCOR1</td>\n",
       "      <td>0.037694</td>\n",
       "      <td>1</td>\n",
       "      <td>LRPPRC, HNRNPU, NCL, MT-ND4L, EIF4B, IPO5, EIF...</td>\n",
       "      <td>False</td>\n",
       "      <td>&lt;|im_start|&gt;user\\nI am planning a perturb-seq ...</td>\n",
       "      <td>\\nOkay, the user is planning a perturb-seq scr...</td>\n",
       "      <td>30</td>\n",
       "      <td>30.0</td>\n",
       "      <td>2</td>\n",
       "      <td>25.0</td>\n",
       "    </tr>\n",
       "    <tr>\n",
       "      <th>3</th>\n",
       "      <td>REXO2</td>\n",
       "      <td>0.037745</td>\n",
       "      <td>1</td>\n",
       "      <td>LRPPRC, HNRNPU, NCL, MT-ND4L, EIF4B, IPO5, EIF...</td>\n",
       "      <td>False</td>\n",
       "      <td>&lt;|im_start|&gt;user\\nI am planning a perturb-seq ...</td>\n",
       "      <td>\\nOkay, the user is planning a perturb-seq scr...</td>\n",
       "      <td>45</td>\n",
       "      <td>45.0</td>\n",
       "      <td>4</td>\n",
       "      <td>45.0</td>\n",
       "    </tr>\n",
       "    <tr>\n",
       "      <th>4</th>\n",
       "      <td>NCAPD3</td>\n",
       "      <td>0.037827</td>\n",
       "      <td>1</td>\n",
       "      <td>LRPPRC, HNRNPU, NCL, MT-ND4L, EIF4B, IPO5, EIF...</td>\n",
       "      <td>False</td>\n",
       "      <td>&lt;|im_start|&gt;user\\nI am planning a perturb-seq ...</td>\n",
       "      <td>\\nOkay, the user is planning a perturb-seq scr...</td>\n",
       "      <td>25</td>\n",
       "      <td>25.0</td>\n",
       "      <td>2</td>\n",
       "      <td>25.0</td>\n",
       "    </tr>\n",
       "    <tr>\n",
       "      <th>...</th>\n",
       "      <td>...</td>\n",
       "      <td>...</td>\n",
       "      <td>...</td>\n",
       "      <td>...</td>\n",
       "      <td>...</td>\n",
       "      <td>...</td>\n",
       "      <td>...</td>\n",
       "      <td>...</td>\n",
       "      <td>...</td>\n",
       "      <td>...</td>\n",
       "      <td>...</td>\n",
       "    </tr>\n",
       "    <tr>\n",
       "      <th>675</th>\n",
       "      <td>MAGOH</td>\n",
       "      <td>0.999806</td>\n",
       "      <td>50</td>\n",
       "      <td>HSPA1A, HSPA1B, DNAJB1, HSP90AA1, HSPH1, UBC, ...</td>\n",
       "      <td>True</td>\n",
       "      <td>&lt;|im_start|&gt;user\\nI am planning a perturb-seq ...</td>\n",
       "      <td>\\nOkay, the user is planning a perturb-seq scr...</td>\n",
       "      <td>85</td>\n",
       "      <td>85.0</td>\n",
       "      <td>8</td>\n",
       "      <td>85.0</td>\n",
       "    </tr>\n",
       "    <tr>\n",
       "      <th>676</th>\n",
       "      <td>USP8</td>\n",
       "      <td>0.999920</td>\n",
       "      <td>50</td>\n",
       "      <td>HSPA1A, HSPA1B, DNAJB1, HSP90AA1, HSPH1, UBC, ...</td>\n",
       "      <td>True</td>\n",
       "      <td>&lt;|im_start|&gt;user\\nI am planning a perturb-seq ...</td>\n",
       "      <td>\\nOkay, the user is planning a perturb-seq scr...</td>\n",
       "      <td>40</td>\n",
       "      <td>40.0</td>\n",
       "      <td>3</td>\n",
       "      <td>35.0</td>\n",
       "    </tr>\n",
       "    <tr>\n",
       "      <th>677</th>\n",
       "      <td>PSMD6</td>\n",
       "      <td>1.000000</td>\n",
       "      <td>50</td>\n",
       "      <td>HSPA1A, HSPA1B, DNAJB1, HSP90AA1, HSPH1, UBC, ...</td>\n",
       "      <td>True</td>\n",
       "      <td>&lt;|im_start|&gt;user\\nI am planning a perturb-seq ...</td>\n",
       "      <td>\\nOkay, the user is planning a perturb-seq scr...</td>\n",
       "      <td>90</td>\n",
       "      <td>90.0</td>\n",
       "      <td>8</td>\n",
       "      <td>85.0</td>\n",
       "    </tr>\n",
       "    <tr>\n",
       "      <th>678</th>\n",
       "      <td>INTS8</td>\n",
       "      <td>1.000000</td>\n",
       "      <td>50</td>\n",
       "      <td>HSPA1A, HSPA1B, DNAJB1, HSP90AA1, HSPH1, UBC, ...</td>\n",
       "      <td>True</td>\n",
       "      <td>&lt;|im_start|&gt;user\\nI am planning a perturb-seq ...</td>\n",
       "      <td>\\nOkay, the user is planning a perturb-seq scr...</td>\n",
       "      <td>75</td>\n",
       "      <td>75.0</td>\n",
       "      <td>7</td>\n",
       "      <td>75.0</td>\n",
       "    </tr>\n",
       "    <tr>\n",
       "      <th>679</th>\n",
       "      <td>INTS5</td>\n",
       "      <td>1.000000</td>\n",
       "      <td>50</td>\n",
       "      <td>HSPA1A, HSPA1B, DNAJB1, HSP90AA1, HSPH1, UBC, ...</td>\n",
       "      <td>True</td>\n",
       "      <td>&lt;|im_start|&gt;user\\nI am planning a perturb-seq ...</td>\n",
       "      <td>\\nOkay, the user is planning a perturb-seq scr...</td>\n",
       "      <td>85</td>\n",
       "      <td>85.0</td>\n",
       "      <td>8</td>\n",
       "      <td>85.0</td>\n",
       "    </tr>\n",
       "  </tbody>\n",
       "</table>\n",
       "<p>5607 rows × 11 columns</p>\n",
       "</div>"
      ],
      "text/plain": [
       "       pert  hit_prob  pheno  \\\n",
       "0     SBNO1  0.037642      1   \n",
       "1     BRIP1  0.037643      1   \n",
       "2     RCOR1  0.037694      1   \n",
       "3     REXO2  0.037745      1   \n",
       "4    NCAPD3  0.037827      1   \n",
       "..      ...       ...    ...   \n",
       "675   MAGOH  0.999806     50   \n",
       "676    USP8  0.999920     50   \n",
       "677   PSMD6  1.000000     50   \n",
       "678   INTS8  1.000000     50   \n",
       "679   INTS5  1.000000     50   \n",
       "\n",
       "                                         pheno_markers    hit  \\\n",
       "0    LRPPRC, HNRNPU, NCL, MT-ND4L, EIF4B, IPO5, EIF...  False   \n",
       "1    LRPPRC, HNRNPU, NCL, MT-ND4L, EIF4B, IPO5, EIF...  False   \n",
       "2    LRPPRC, HNRNPU, NCL, MT-ND4L, EIF4B, IPO5, EIF...  False   \n",
       "3    LRPPRC, HNRNPU, NCL, MT-ND4L, EIF4B, IPO5, EIF...  False   \n",
       "4    LRPPRC, HNRNPU, NCL, MT-ND4L, EIF4B, IPO5, EIF...  False   \n",
       "..                                                 ...    ...   \n",
       "675  HSPA1A, HSPA1B, DNAJB1, HSP90AA1, HSPH1, UBC, ...   True   \n",
       "676  HSPA1A, HSPA1B, DNAJB1, HSP90AA1, HSPH1, UBC, ...   True   \n",
       "677  HSPA1A, HSPA1B, DNAJB1, HSP90AA1, HSPH1, UBC, ...   True   \n",
       "678  HSPA1A, HSPA1B, DNAJB1, HSP90AA1, HSPH1, UBC, ...   True   \n",
       "679  HSPA1A, HSPA1B, DNAJB1, HSP90AA1, HSPH1, UBC, ...   True   \n",
       "\n",
       "                                                prompt  \\\n",
       "0    <|im_start|>user\\nI am planning a perturb-seq ...   \n",
       "1    <|im_start|>user\\nI am planning a perturb-seq ...   \n",
       "2    <|im_start|>user\\nI am planning a perturb-seq ...   \n",
       "3    <|im_start|>user\\nI am planning a perturb-seq ...   \n",
       "4    <|im_start|>user\\nI am planning a perturb-seq ...   \n",
       "..                                                 ...   \n",
       "675  <|im_start|>user\\nI am planning a perturb-seq ...   \n",
       "676  <|im_start|>user\\nI am planning a perturb-seq ...   \n",
       "677  <|im_start|>user\\nI am planning a perturb-seq ...   \n",
       "678  <|im_start|>user\\nI am planning a perturb-seq ...   \n",
       "679  <|im_start|>user\\nI am planning a perturb-seq ...   \n",
       "\n",
       "                                      thinking_content answer  answer_num  \\\n",
       "0    \\nOkay, the user is planning a perturb-seq scr...     30        30.0   \n",
       "1    \\nOkay, the user is planning a perturb-seq scr...     30        30.0   \n",
       "2    \\nOkay, the user is planning a perturb-seq scr...     30        30.0   \n",
       "3    \\nOkay, the user is planning a perturb-seq scr...     45        45.0   \n",
       "4    \\nOkay, the user is planning a perturb-seq scr...     25        25.0   \n",
       "..                                                 ...    ...         ...   \n",
       "675  \\nOkay, the user is planning a perturb-seq scr...     85        85.0   \n",
       "676  \\nOkay, the user is planning a perturb-seq scr...     40        40.0   \n",
       "677  \\nOkay, the user is planning a perturb-seq scr...     90        90.0   \n",
       "678  \\nOkay, the user is planning a perturb-seq scr...     75        75.0   \n",
       "679  \\nOkay, the user is planning a perturb-seq scr...     85        85.0   \n",
       "\n",
       "     answer_bin  answer_bin_val  \n",
       "0             2            25.0  \n",
       "1             2            25.0  \n",
       "2             2            25.0  \n",
       "3             4            45.0  \n",
       "4             2            25.0  \n",
       "..          ...             ...  \n",
       "675           8            85.0  \n",
       "676           3            35.0  \n",
       "677           8            85.0  \n",
       "678           7            75.0  \n",
       "679           8            85.0  \n",
       "\n",
       "[5607 rows x 11 columns]"
      ]
     },
     "execution_count": 26,
     "metadata": {},
     "output_type": "execute_result"
    }
   ],
   "source": [
    "dfs[\"RLOO-offline\"]"
   ]
  }
 ],
 "metadata": {
  "kernelspec": {
   "display_name": "uncalibrated-reasoning",
   "language": "python",
   "name": "python3"
  },
  "language_info": {
   "codemirror_mode": {
    "name": "ipython",
    "version": 3
   },
   "file_extension": ".py",
   "mimetype": "text/x-python",
   "name": "python",
   "nbconvert_exporter": "python",
   "pygments_lexer": "ipython3",
   "version": "3.12.10"
  }
 },
 "nbformat": 4,
 "nbformat_minor": 5
}
