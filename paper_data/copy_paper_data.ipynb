{
 "cells": [
  {
   "cell_type": "code",
   "execution_count": 13,
   "id": "49f6d49d",
   "metadata": {},
   "outputs": [],
   "source": [
    "import glob\n",
    "import os\n",
    "from os.path import dirname\n",
    "import shutil"
   ]
  },
  {
   "cell_type": "code",
   "execution_count": 14,
   "id": "7b9183e8",
   "metadata": {},
   "outputs": [],
   "source": [
    "# copy perturbation task data\n",
    "input_paths = glob.glob(\"../data_cache/task_data/replogle_k562_essential_cnmf/**/*.pq\", recursive=True)\n",
    "for input_path in input_paths:\n",
    "    output_path = input_path.replace(\"data_cache\", \"paper_data\")\n",
    "    os.makedirs(dirname(output_path), exist_ok=True)\n",
    "    shutil.copy(input_path, output_path)"
   ]
  },
  {
   "cell_type": "code",
   "execution_count": 22,
   "id": "a5d044b9",
   "metadata": {},
   "outputs": [],
   "source": [
    "# copy trained perturbation model predictions\n",
    "input_paths = glob.glob(\"../data_cache/experiments/final*/**/*.pq\", recursive=True)\n",
    "input_paths = [p for p in input_paths if \"global_step_180\" in p]\n",
    "for input_path in input_paths:\n",
    "    output_path = input_path.replace(\"data_cache\", \"paper_data\")\n",
    "    os.makedirs(dirname(output_path), exist_ok=True)\n",
    "    shutil.copy(input_path, output_path)"
   ]
  },
  {
   "cell_type": "code",
   "execution_count": 30,
   "id": "e4e5be0b",
   "metadata": {},
   "outputs": [],
   "source": [
    "# copy zero-shot perturbation predictions\n",
    "input_paths = glob.glob(\"../data_cache/baselines/replogle_k562_essential_cnmf/hit_probability_v2-split-test/*.pq\")\n",
    "for input_path in input_paths:\n",
    "    output_path = input_path.replace(\"data_cache\", \"paper_data\")\n",
    "    os.makedirs(dirname(output_path), exist_ok=True)\n",
    "    shutil.copy(input_path, output_path)"
   ]
  }
 ],
 "metadata": {
  "kernelspec": {
   "display_name": "perturb-reasoning",
   "language": "python",
   "name": "python3"
  },
  "language_info": {
   "codemirror_mode": {
    "name": "ipython",
    "version": 3
   },
   "file_extension": ".py",
   "mimetype": "text/x-python",
   "name": "python",
   "nbconvert_exporter": "python",
   "pygments_lexer": "ipython3",
   "version": "3.12.10"
  }
 },
 "nbformat": 4,
 "nbformat_minor": 5
}
